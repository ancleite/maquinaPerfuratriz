{
 "cells": [
  {
   "cell_type": "markdown",
   "id": "25da9794",
   "metadata": {},
   "source": [
    "### Importando bibliotecas"
   ]
  },
  {
   "cell_type": "code",
   "execution_count": 1,
   "id": "5e35d8d1",
   "metadata": {},
   "outputs": [],
   "source": [
    "import numpy as np\n",
    "import pandas as pd\n",
    "import matplotlib.pyplot as plt\n",
    "import sympy as sym\n",
    "from scipy import signal\n",
    "import cmath"
   ]
  },
  {
   "cell_type": "code",
   "execution_count": 2,
   "id": "66da432c",
   "metadata": {},
   "outputs": [],
   "source": [
    "s = sym.Symbol('s')\n",
    "z = sym.Symbol('z')\n",
    "e = sym.Symbol('e')\n",
    "k = sym.Symbol('K')\n",
    "alpha = sym.Symbol('a')\n",
    "beta = sym.Symbol('b')\n",
    "j = sym.Symbol('j')"
   ]
  },
  {
   "cell_type": "markdown",
   "id": "cb5a875a",
   "metadata": {},
   "source": [
    "### Visualizando G(s)"
   ]
  },
  {
   "cell_type": "code",
   "execution_count": 3,
   "id": "c21b8de9",
   "metadata": {},
   "outputs": [
    {
     "name": "stdout",
     "output_type": "stream",
     "text": [
      "G(s):\n"
     ]
    },
    {
     "data": {
      "text/latex": [
       "$\\displaystyle \\frac{1}{s \\left(s + 1\\right)}$"
      ],
      "text/plain": [
       "1/(s*(s + 1))"
      ]
     },
     "execution_count": 3,
     "metadata": {},
     "output_type": "execute_result"
    }
   ],
   "source": [
    "zohContinous = (1 - e**(1*s)) / s\n",
    "gs = 1 / (s*(s+1))\n",
    "print('G(s):')\n",
    "gs"
   ]
  },
  {
   "cell_type": "code",
   "execution_count": 4,
   "id": "1c9af18c",
   "metadata": {},
   "outputs": [
    {
     "name": "stderr",
     "output_type": "stream",
     "text": [
      "C:\\Users\\andre.leite_dp6\\anaconda3\\lib\\site-packages\\scipy\\signal\\filter_design.py:1630: BadCoefficients: Badly conditioned filter coefficients (numerator): the results may be meaningless\n",
      "  warnings.warn(\"Badly conditioned filter coefficients (numerator): the \"\n"
     ]
    },
    {
     "data": {
      "text/plain": [
       "[<matplotlib.lines.Line2D at 0x1635de1c970>]"
      ]
     },
     "execution_count": 4,
     "metadata": {},
     "output_type": "execute_result"
    },
    {
     "data": {
      "image/png": "[encoded data removed]",
      "text/plain": [
       "<Figure size 432x288 with 1 Axes>"
      ]
     },
     "metadata": {
      "needs_background": "light"
     },
     "output_type": "display_data"
    }
   ],
   "source": [
    "continousSignal = signal.TransferFunction([0, 0, 1], [1, 1, 0])\n",
    "t, x = continousSignal.step(T=np.linspace(0, 100, 100))\n",
    "fig, ax = plt.subplots()\n",
    "ax.plot(t, x, label='Continuous', linewidth=3)"
   ]
  },
  {
   "cell_type": "markdown",
   "id": "3950105e",
   "metadata": {},
   "source": [
    "### Pólos em S"
   ]
  },
  {
   "cell_type": "code",
   "execution_count": 5,
   "id": "dadc020f",
   "metadata": {},
   "outputs": [
    {
     "data": {
      "image/png": "[encoded data removed]",
      "text/plain": [
       "<Figure size 432x288 with 1 Axes>"
      ]
     },
     "metadata": {
      "needs_background": "light"
     },
     "output_type": "display_data"
    }
   ],
   "source": [
    "figure, axes = plt.subplots( 1 ) \n",
    "  \n",
    "axes.set_aspect( 1 )\n",
    "axes.plot([0, -1], [0, 0], marker='x', ls='none', ms=20)\n",
    "\n",
    "plt.xlim( -1.5 , 1.5 ) \n",
    "plt.ylim( -1.5 , 1.5 )\n",
    "\n",
    "ax = plt.gca()  # gca significa 'get current axis'\n",
    "ax.spines['right'].set_color('none')\n",
    "ax.spines['top'].set_color('none')\n",
    "ax.xaxis.set_ticks_position('bottom')\n",
    "ax.spines['bottom'].set_position(('data',0))\n",
    "ax.yaxis.set_ticks_position('left')\n",
    "ax.spines['left'].set_position(('data',0))\n",
    "  \n",
    "plt.title( 'Pólos em S' ) \n",
    "plt.show() "
   ]
  },
  {
   "cell_type": "markdown",
   "id": "6f004483",
   "metadata": {},
   "source": [
    "### Realizando Discretização"
   ]
  },
  {
   "cell_type": "code",
   "execution_count": 6,
   "id": "9b1ee7dc",
   "metadata": {},
   "outputs": [
    {
     "name": "stdout",
     "output_type": "stream",
     "text": [
      "ZOH * GS: \n"
     ]
    },
    {
     "data": {
      "text/latex": [
       "$\\displaystyle \\frac{1 - e^{s}}{s^{2} \\left(s + 1\\right)}$"
      ],
      "text/plain": [
       "(1 - e**s)/(s**2*(s + 1))"
      ]
     },
     "execution_count": 6,
     "metadata": {},
     "output_type": "execute_result"
    }
   ],
   "source": [
    "# Aplicando ZOH em G(s)\n",
    "zohContinous = (1 - e**(1*s)) / s\n",
    "gs = 1 / (s*(s+1))\n",
    "gsZoh = zohContinous*gs\n",
    "print('ZOH * GS: ')\n",
    "gsZoh"
   ]
  },
  {
   "cell_type": "code",
   "execution_count": 7,
   "id": "c2a8829c",
   "metadata": {},
   "outputs": [
    {
     "name": "stdout",
     "output_type": "stream",
     "text": [
      "G(z): \n"
     ]
    },
    {
     "data": {
      "text/latex": [
       "$\\displaystyle \\frac{0.3679 \\left(1 + \\frac{0.718}{z}\\right)}{z \\left(1 - \\frac{1}{z}\\right) \\left(1 - \\frac{0.3679}{z}\\right)}$"
      ],
      "text/plain": [
       "0.3679*(1 + 0.718/z)/(z*(1 - 1/z)*(1 - 0.3679/z))"
      ]
     },
     "execution_count": 7,
     "metadata": {},
     "output_type": "execute_result"
    }
   ],
   "source": [
    "# Equação de G(s)*ZOH após transformada Z\n",
    "gz = ((0.3679 * z**-1) * (1 + 0.718*z**-1)) / ((1 - z**-1) * (1 - 0.3679*z**-1))\n",
    "print('G(z): ')\n",
    "gz"
   ]
  },
  {
   "cell_type": "code",
   "execution_count": 8,
   "id": "bc064cc4",
   "metadata": {},
   "outputs": [
    {
     "name": "stdout",
     "output_type": "stream",
     "text": [
      "G(z):\n"
     ]
    },
    {
     "data": {
      "text/latex": [
       "$\\displaystyle \\frac{0.3679 z + 0.2641522}{\\left(z - 1\\right) \\left(z - 0.3679\\right)}$"
      ],
      "text/plain": [
       "(0.3679*z + 0.2641522)/((z - 1)*(z - 0.3679))"
      ]
     },
     "execution_count": 8,
     "metadata": {},
     "output_type": "execute_result"
    }
   ],
   "source": [
    "gz = (0.3679 * (z + 0.718)) / ((z-1) * (z-0.3679))\n",
    "polosGZ = [[1, 0], [0.3679, 0]]\n",
    "zerosGZ = -0.718\n",
    "print('G(z):')\n",
    "gz.simplify()"
   ]
  },
  {
   "cell_type": "markdown",
   "id": "93a2d93e",
   "metadata": {},
   "source": [
    "### Pólos e Zeros em Z no círculo unitário"
   ]
  },
  {
   "cell_type": "code",
   "execution_count": 9,
   "id": "36da2c41",
   "metadata": {},
   "outputs": [
    {
     "data": {
      "image/png": "[encoded data removed]",
      "text/plain": [
       "<Figure size 432x288 with 1 Axes>"
      ]
     },
     "metadata": {
      "needs_background": "light"
     },
     "output_type": "display_data"
    }
   ],
   "source": [
    "theta = np.linspace( 0 , 2 * np.pi , 150 ) \n",
    "  \n",
    "radius = 1\n",
    "  \n",
    "a = radius * np.cos( theta ) \n",
    "b = radius * np.sin( theta ) \n",
    "  \n",
    "figure, axes = plt.subplots( 1 ) \n",
    "  \n",
    "axes.scatter( a, b, color='#000000', linewidths=0.0005 ) \n",
    "axes.set_aspect( 1 )\n",
    "axes.plot([1, 0.3679], [0, 0], marker='x', ls='none', ms=20)\n",
    "axes.plot([-0.718], [0], marker='o', ls='none', ms=20)\n",
    "\n",
    "plt.xlim( -1.5 , 1.5 ) \n",
    "plt.ylim( -1.5 , 1.5 )\n",
    "\n",
    "ax = plt.gca()  # gca significa 'get current axis'\n",
    "ax.spines['right'].set_color('none')\n",
    "ax.spines['top'].set_color('none')\n",
    "ax.xaxis.set_ticks_position('bottom')\n",
    "ax.spines['bottom'].set_position(('data',0))\n",
    "ax.yaxis.set_ticks_position('left')\n",
    "ax.spines['left'].set_position(('data',0))\n",
    "  \n",
    "plt.title( 'Pólos e Zeros em Z no círculo unitário' ) \n",
    "plt.show() "
   ]
  },
  {
   "cell_type": "markdown",
   "id": "72e3f76b",
   "metadata": {},
   "source": [
    "### Encontrando o ponto P (Utilizando método do lugar das raízes)"
   ]
  },
  {
   "cell_type": "code",
   "execution_count": 10,
   "id": "8aee02c3",
   "metadata": {},
   "outputs": [
    {
     "data": {
      "text/plain": [
       "(-0.1882109034271204+0.07306750173307804j)"
      ]
     },
     "execution_count": 10,
     "metadata": {},
     "output_type": "execute_result"
    }
   ],
   "source": [
    "damping = 0.5\n",
    "t = 0.8\n",
    "ts = 2\n",
    "wn = 4 / (ts * damping)\n",
    "wd = wn * np.sqrt(1 - damping**2)\n",
    "ws = (2 * np.pi) / t\n",
    "n = ws / wd\n",
    "modZ = np.exp(-t*damping*wn)\n",
    "angZ = 360 * (wd/ws)\n",
    "pointP = cmath.rect(modZ, np.deg2rad(angZ))\n",
    "pointP"
   ]
  },
  {
   "cell_type": "code",
   "execution_count": 11,
   "id": "daab3fa9",
   "metadata": {},
   "outputs": [
    {
     "data": {
      "image/png": "[encoded data removed]",
      "text/plain": [
       "<Figure size 432x288 with 1 Axes>"
      ]
     },
     "metadata": {
      "needs_background": "light"
     },
     "output_type": "display_data"
    }
   ],
   "source": [
    "theta = np.linspace( 0 , 2 * np.pi , 150 ) \n",
    "\n",
    "radius = 1\n",
    "\n",
    "a = radius * np.cos( theta ) \n",
    "b = radius * np.sin( theta ) \n",
    "\n",
    "figure, axes = plt.subplots( 1 ) \n",
    "\n",
    "axes.scatter( a, b, color='#000000', linewidths=0.0005 ) \n",
    "axes.set_aspect( 1 )\n",
    "axes.plot([1, 0.3679, -0.6357604866988829], [0, 0, -0.21245603702794907], marker='x', ls='none', ms=20)\n",
    "axes.plot([-0.718], [0], marker='o', ls='none', ms=20)\n",
    "\n",
    "plt.xlim( -1.5 , 1.5 ) \n",
    "plt.ylim( -1.5 , 1.5 )\n",
    "\n",
    "ax = plt.gca()  # gca significa 'get current axis'\n",
    "ax.spines['right'].set_color('none')\n",
    "ax.spines['top'].set_color('none')\n",
    "ax.xaxis.set_ticks_position('bottom')\n",
    "ax.spines['bottom'].set_position(('data',0))\n",
    "ax.yaxis.set_ticks_position('left')\n",
    "ax.spines['left'].set_position(('data',0))\n",
    "\n",
    "plt.title( 'Pólos e Zeros em Z no círculo unitário' ) \n",
    "plt.show()"
   ]
  },
  {
   "cell_type": "markdown",
   "id": "8cf0e377",
   "metadata": {},
   "source": [
    "### Encontrando o ângulo de compensação"
   ]
  },
  {
   "cell_type": "code",
   "execution_count": 14,
   "id": "5609ec17",
   "metadata": {},
   "outputs": [],
   "source": [
    "theta1 = np.rad2deg(np.arctan(pointP.imag / (pointP.real - zerosGZ)))\n",
    "theta2 = 180 - np.rad2deg(np.arctan(pointP.imag / (pointP.real - polosGZ[1][0])))\n",
    "theta3 = 180 - np.rad2deg(np.arctan(pointP.imag / (polosGZ[0][0] - pointP.real)))\n",
    "thetaP = theta1 - theta2 - theta3\n",
    "compensateAngle = thetaP + 180"
   ]
  },
  {
   "cell_type": "code",
   "execution_count": 15,
   "id": "e35db61f",
   "metadata": {},
   "outputs": [
    {
     "name": "stdout",
     "output_type": "stream",
     "text": [
      "Fórmula do Ganho\n"
     ]
    },
    {
     "data": {
      "text/latex": [
       "$\\displaystyle \\frac{a + z}{b + z}$"
      ],
      "text/plain": [
       "(a + z)/(b + z)"
      ]
     },
     "execution_count": 15,
     "metadata": {},
     "output_type": "execute_result"
    }
   ],
   "source": [
    "print(\"Fórmula do Ganho\")\n",
    "(z+alpha) / (z+beta) "
   ]
  },
  {
   "cell_type": "markdown",
   "id": "5a39386d",
   "metadata": {},
   "source": [
    "### Pólos e Zeros do Controlador"
   ]
  },
  {
   "cell_type": "code",
   "execution_count": 16,
   "id": "19c77d55",
   "metadata": {},
   "outputs": [],
   "source": [
    "controllerPole = -((pointP.imag/np.tan(-compensateAngle)) - pointP.real)\n",
    "controllerZero = polosGZ[1][0]"
   ]
  },
  {
   "cell_type": "code",
   "execution_count": 26,
   "id": "20949bc7",
   "metadata": {},
   "outputs": [
    {
     "name": "stdout",
     "output_type": "stream",
     "text": [
      "Gd * Gz\n"
     ]
    },
    {
     "data": {
      "text/latex": [
       "$\\displaystyle \\frac{K \\left(0.3679 z + 0.2641522\\right) \\left(z + 0.3679\\right)}{\\left(z - 1\\right) \\left(z - 0.579625249617318\\right) \\left(z - 0.3679\\right)}$"
      ],
      "text/plain": [
       "K*(0.3679*z + 0.2641522)*(z + 0.3679)/((z - 1)*(z - 0.579625249617318)*(z - 0.3679))"
      ]
     },
     "execution_count": 26,
     "metadata": {},
     "output_type": "execute_result"
    }
   ],
   "source": [
    "print('Gd * Gz')\n",
    "k * ((z + controllerZero) / (z + controllerPole)) * ((0.3679*z + 0.2641522) / ((z-1)*(z-0.3679)))"
   ]
  },
  {
   "cell_type": "markdown",
   "id": "d6444070",
   "metadata": {},
   "source": [
    "#### Substituindo o valor do ponto P no lugar de z, e igualando a função a 1"
   ]
  },
  {
   "cell_type": "code",
   "execution_count": 18,
   "id": "46b95d67",
   "metadata": {},
   "outputs": [
    {
     "name": "stdout",
     "output_type": "stream",
     "text": [
      "K=\n"
     ]
    },
    {
     "data": {
      "text/plain": [
       "(2.4089155347938904-0.03353050424847111j)"
      ]
     },
     "execution_count": 18,
     "metadata": {},
     "output_type": "execute_result"
    }
   ],
   "source": [
    "kValue = -((pointP - 1) * (pointP - controllerPole)) / ((0.3679 * pointP) + 0.2641522)\n",
    "print('K=')\n",
    "kValue"
   ]
  },
  {
   "cell_type": "code",
   "execution_count": 19,
   "id": "c13f8359",
   "metadata": {},
   "outputs": [
    {
     "data": {
      "text/plain": [
       "2.409148884665805"
      ]
     },
     "execution_count": 19,
     "metadata": {},
     "output_type": "execute_result"
    }
   ],
   "source": [
    "# Convertendo K para polar para utilizarmos o valor do modulo\n",
    "KValue = cmath.polar(kValue)\n",
    "Kv = KValue[0]\n",
    "Kv"
   ]
  },
  {
   "cell_type": "code",
   "execution_count": 20,
   "id": "be441c95",
   "metadata": {},
   "outputs": [
    {
     "name": "stdout",
     "output_type": "stream",
     "text": [
      "Função de Transferência:\n"
     ]
    },
    {
     "data": {
      "text/latex": [
       "$\\displaystyle \\frac{0.88632587466855 z + 0.636381978012019}{1.0 z^{2} + 0.465951124285867 z + 0.056756728394701}$"
      ],
      "text/plain": [
       "(0.88632587466855*z + 0.636381978012019)/(1.0*z**2 + 0.465951124285867*z + 0.056756728394701)"
      ]
     },
     "execution_count": 20,
     "metadata": {},
     "output_type": "execute_result"
    }
   ],
   "source": [
    "gdgz = Kv * ((z - controllerZero) / (z - controllerPole)) * ((0.3679*z + 0.2641522) / ((z-1)*(z-0.3679)))\n",
    "ft = gdgz / (1 + gdgz)\n",
    "print('Função de Transferência:')\n",
    "ft.simplify()"
   ]
  },
  {
   "cell_type": "markdown",
   "id": "0699ac6d",
   "metadata": {},
   "source": [
    "### Sinal Contínuo com Controlador"
   ]
  },
  {
   "cell_type": "code",
   "execution_count": 21,
   "id": "77e6c62e",
   "metadata": {},
   "outputs": [
    {
     "name": "stderr",
     "output_type": "stream",
     "text": [
      "C:\\Users\\andre.leite_dp6\\anaconda3\\lib\\site-packages\\scipy\\signal\\filter_design.py:1630: BadCoefficients: Badly conditioned filter coefficients (numerator): the results may be meaningless\n",
      "  warnings.warn(\"Badly conditioned filter coefficients (numerator): the \"\n"
     ]
    },
    {
     "data": {
      "text/plain": [
       "[<matplotlib.lines.Line2D at 0x1635e1b7280>]"
      ]
     },
     "execution_count": 21,
     "metadata": {},
     "output_type": "execute_result"
    },
    {
     "data": {
      "image/png": "[encoded data removed]",
      "text/plain": [
       "<Figure size 432x288 with 1 Axes>"
      ]
     },
     "metadata": {
      "needs_background": "light"
     },
     "output_type": "display_data"
    }
   ],
   "source": [
    "continousSignal = signal.TransferFunction([0, 0.88632587466855, 0.636381978012019], [1.0, 0.465951124285867, 0.056756728394701])\n",
    "t, x = continousSignal.step(T=np.linspace(0, 100, 100))\n",
    "fig, ax = plt.subplots()\n",
    "ax.plot(t, x, label='Continuous', linewidth=3)"
   ]
  },
  {
   "cell_type": "markdown",
   "id": "44dfed4f",
   "metadata": {},
   "source": [
    "### Sinal Discretizado com Segurador de Ordem Zero"
   ]
  },
  {
   "cell_type": "code",
   "execution_count": 22,
   "id": "af2cf3b1",
   "metadata": {},
   "outputs": [
    {
     "name": "stderr",
     "output_type": "stream",
     "text": [
      "C:\\Users\\andre.leite_dp6\\anaconda3\\lib\\site-packages\\scipy\\signal\\filter_design.py:1630: BadCoefficients: Badly conditioned filter coefficients (numerator): the results may be meaningless\n",
      "  warnings.warn(\"Badly conditioned filter coefficients (numerator): the \"\n",
      "C:\\Users\\andre.leite_dp6\\anaconda3\\lib\\site-packages\\scipy\\signal\\filter_design.py:1630: BadCoefficients: Badly conditioned filter coefficients (numerator): the results may be meaningless\n",
      "  warnings.warn(\"Badly conditioned filter coefficients (numerator): the \"\n"
     ]
    },
    {
     "data": {
      "image/png": "[encoded data removed]",
      "text/plain": [
       "<Figure size 432x288 with 1 Axes>"
      ]
     },
     "metadata": {
      "needs_background": "light"
     },
     "output_type": "display_data"
    }
   ],
   "source": [
    "continousSignal = signal.TransferFunction([0, 0.88632587466855, 0.636381978012019], [1.0, 0.465951124285867, 0.056756728394701])\n",
    "t, x = continousSignal.step(T=np.linspace(0, 100, 100))\n",
    "fig, ax = plt.subplots()\n",
    "ax.plot(t, x, label='Continuous', linewidth=3)\n",
    "\n",
    "methods = ['zoh', 'bilinear', 'euler']\n",
    "discreteSignal = signal.cont2discrete(([0, 0.88632587466855, 0.636381978012019], [1.0, 0.465951124285867, 0.056756728394701]), dt=0.8, method='zoh')\n",
    "s, x_d = signal.dstep(discreteSignal)\n",
    "ax.step(s, np.squeeze(x_d), label='zoh', color='orange', where='post')\n",
    "ax.axis([t[0], 20, x[0], 12])\n",
    "ax.legend(loc='best')\n",
    "fig.tight_layout()\n",
    "plt.show()"
   ]
  },
  {
   "cell_type": "markdown",
   "id": "8a99a615",
   "metadata": {},
   "source": [
    "### Sinal Discretizado - Método Tustin"
   ]
  },
  {
   "cell_type": "code",
   "execution_count": 23,
   "id": "0ce05808",
   "metadata": {},
   "outputs": [
    {
     "name": "stderr",
     "output_type": "stream",
     "text": [
      "C:\\Users\\andre.leite_dp6\\anaconda3\\lib\\site-packages\\scipy\\signal\\filter_design.py:1630: BadCoefficients: Badly conditioned filter coefficients (numerator): the results may be meaningless\n",
      "  warnings.warn(\"Badly conditioned filter coefficients (numerator): the \"\n",
      "C:\\Users\\andre.leite_dp6\\anaconda3\\lib\\site-packages\\scipy\\signal\\filter_design.py:1630: BadCoefficients: Badly conditioned filter coefficients (numerator): the results may be meaningless\n",
      "  warnings.warn(\"Badly conditioned filter coefficients (numerator): the \"\n"
     ]
    },
    {
     "data": {
      "image/png": "[encoded data removed]",
      "text/plain": [
       "<Figure size 432x288 with 1 Axes>"
      ]
     },
     "metadata": {
      "needs_background": "light"
     },
     "output_type": "display_data"
    }
   ],
   "source": [
    "continousSignal = signal.TransferFunction([0, 0.88632587466855, 0.636381978012019], [1.0, 0.465951124285867, 0.056756728394701])\n",
    "t, x = continousSignal.step(T=np.linspace(0, 100, 100))\n",
    "fig, ax = plt.subplots()\n",
    "ax.plot(t, x, label='Continuous', linewidth=3)\n",
    "\n",
    "methods = ['zoh', 'bilinear', 'euler']\n",
    "discreteSignal = signal.cont2discrete(([0, 0.88632587466855, 0.636381978012019], [1.0, 0.465951124285867, 0.056756728394701]), dt=0.8, method='bilinear')\n",
    "s, x_d = signal.dstep(discreteSignal)\n",
    "ax.step(s, np.squeeze(x_d), label='tustin', color='red', where='post')\n",
    "ax.axis([t[0], 20, x[0], 12])\n",
    "ax.legend(loc='best')\n",
    "fig.tight_layout()\n",
    "plt.show()"
   ]
  },
  {
   "cell_type": "markdown",
   "id": "c96bdecf",
   "metadata": {},
   "source": [
    "### Sinal Discretizado - Método de Euler"
   ]
  },
  {
   "cell_type": "code",
   "execution_count": 24,
   "id": "a7b20268",
   "metadata": {},
   "outputs": [
    {
     "name": "stderr",
     "output_type": "stream",
     "text": [
      "C:\\Users\\andre.leite_dp6\\anaconda3\\lib\\site-packages\\scipy\\signal\\filter_design.py:1630: BadCoefficients: Badly conditioned filter coefficients (numerator): the results may be meaningless\n",
      "  warnings.warn(\"Badly conditioned filter coefficients (numerator): the \"\n",
      "C:\\Users\\andre.leite_dp6\\anaconda3\\lib\\site-packages\\scipy\\signal\\filter_design.py:1630: BadCoefficients: Badly conditioned filter coefficients (numerator): the results may be meaningless\n",
      "  warnings.warn(\"Badly conditioned filter coefficients (numerator): the \"\n"
     ]
    },
    {
     "data": {
      "image/png": "[encoded data removed]",
      "text/plain": [
       "<Figure size 432x288 with 1 Axes>"
      ]
     },
     "metadata": {
      "needs_background": "light"
     },
     "output_type": "display_data"
    }
   ],
   "source": [
    "continousSignal = signal.TransferFunction([0, 0.88632587466855, 0.636381978012019], [1.0, 0.465951124285867, 0.056756728394701])\n",
    "t, x = continousSignal.step(T=np.linspace(0, 100, 100))\n",
    "fig, ax = plt.subplots()\n",
    "ax.plot(t, x, label='Continuous', linewidth=3)\n",
    "\n",
    "methods = ['zoh', 'bilinear', 'euler']\n",
    "discreteSignal = signal.cont2discrete(([0, 0.88632587466855, 0.636381978012019], [1.0, 0.465951124285867, 0.056756728394701]), dt=0.8, method='euler')\n",
    "s, x_d = signal.dstep(discreteSignal)\n",
    "ax.step(s, np.squeeze(x_d), label='euler', color='brown', where='post')\n",
    "ax.axis([t[0], 20, x[0], 12])\n",
    "ax.legend(loc='best')\n",
    "fig.tight_layout()\n",
    "plt.show()"
   ]
  },
  {
   "cell_type": "code",
   "execution_count": null,
   "id": "6fc44dae",
   "metadata": {},
   "outputs": [],
   "source": []
  },
  {
   "cell_type": "code",
   "execution_count": null,
   "id": "6310c6b0",
   "metadata": {},
   "outputs": [],
   "source": []
  },
  {
   "cell_type": "code",
   "execution_count": null,
   "id": "b4d05c01",
   "metadata": {},
   "outputs": [],
   "source": []
  }
 ],
 "metadata": {
  "kernelspec": {
   "display_name": "Python 3",
   "language": "python",
   "name": "python3"
  },
  "language_info": {
   "codemirror_mode": {
    "name": "ipython",
    "version": 3
   },
   "file_extension": ".py",
   "mimetype": "text/x-python",
   "name": "python",
   "nbconvert_exporter": "python",
   "pygments_lexer": "ipython3",
   "version": "3.8.8"
  }
 },
 "nbformat": 4,
 "nbformat_minor": 5
}
